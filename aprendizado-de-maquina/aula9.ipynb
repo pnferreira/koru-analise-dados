{
 "cells": [
  {
   "cell_type": "code",
   "execution_count": 1,
   "metadata": {},
   "outputs": [],
   "source": [
    "#pip install openai"
   ]
  },
  {
   "cell_type": "code",
   "execution_count": 1,
   "metadata": {},
   "outputs": [
    {
     "data": {
      "text/plain": [
       "'sua-chave'"
      ]
     },
     "execution_count": 1,
     "metadata": {},
     "output_type": "execute_result"
    }
   ],
   "source": [
    "import openai\n",
    "import os\n",
    "\n",
    "chave = 'sua-chave'\n",
    "chave\n"
   ]
  },
  {
   "cell_type": "code",
   "execution_count": 3,
   "metadata": {},
   "outputs": [],
   "source": [
    "client = openai.OpenAI(api_key=chave)"
   ]
  },
  {
   "cell_type": "code",
   "execution_count": 90,
   "metadata": {},
   "outputs": [],
   "source": [
    "texto=\"muito estranho\"\n",
    "prompt = f\"\"\"leia o comentário entre #### e analise o sentimento. Responda com positivo, neutro ou negativo apenas. ####{texto}####\"\"\"\n",
    "\n",
    "message = [{\"role\":\"user\", \"content\": prompt}]\n",
    "response = client.chat.completions.create(\n",
    "    model='gpt-3.5-turbo',\n",
    "    messages = message,\n",
    "    temperature = 1,\n",
    "    max_tokens=50\n",
    ")"
   ]
  },
  {
   "cell_type": "code",
   "execution_count": 91,
   "metadata": {},
   "outputs": [
    {
     "name": "stdout",
     "output_type": "stream",
     "text": [
      "negativo\n"
     ]
    }
   ],
   "source": [
    "print(response.choices[0].message.content)"
   ]
  },
  {
   "cell_type": "code",
   "execution_count": 48,
   "metadata": {},
   "outputs": [],
   "source": [
    "def get_completion_from_messages(messages, model='gpt-3.5-turbo'):\n",
    "    response = client.chat.completions.create(\n",
    "        model='gpt-3.5-turbo',\n",
    "        messages = messages,\n",
    "        temperature = 0\n",
    "    )\n",
    "    return response.choices[0].message.content"
   ]
  },
  {
   "cell_type": "code",
   "execution_count": 53,
   "metadata": {},
   "outputs": [
    {
     "data": {
      "text/plain": [
       "'A vida é um mistério a ser desvendado,\\nEntre a luz e a sombra, o ser humano é moldado.\\nEm cada passo dado, um novo caminho se revela,\\nE na jornada da existência, a alma se revela.'"
      ]
     },
     "execution_count": 53,
     "metadata": {},
     "output_type": "execute_result"
    }
   ],
   "source": [
    "prompt = 'minha comida favorita é'\n",
    "\n",
    "messages = [{\"role\":\"system\", \"content\": \"você é um assistente que sempre responde como o poeta augusto dos anjos\"},\n",
    "            {\"role\":\"user\", \"content\":\"meu nome é Poliana\"},\n",
    "            {\"role\":\"assistant\", \"content\":\"Olá, Poliana\"},\n",
    "            {\"role\":\"user\", \"content\":\"Diga algo\"}]\n",
    "\n",
    "get_completion_from_messages(messages)"
   ]
  },
  {
   "cell_type": "code",
   "execution_count": 67,
   "metadata": {},
   "outputs": [],
   "source": [
    "usuario = 'explique quais os produtos da apple'\n",
    "\n",
    "prompt = f\"\"\"Você é um assistente de uma loja de produtos eletrônicos e deve responder informações sobre eles.\n",
    "        Responda o texto delimitado por ###. \n",
    "        ###{usuario}###.\"\"\""
   ]
  },
  {
   "cell_type": "code",
   "execution_count": 68,
   "metadata": {},
   "outputs": [
    {
     "data": {
      "text/plain": [
       "'A Apple oferece uma ampla gama de produtos eletrônicos, incluindo iPhones, iPads, MacBooks, iMacs, Apple Watches, AirPods e Apple TVs. Além disso, a empresa também possui uma linha de acessórios, como capas para dispositivos, carregadores e fones de ouvido. Todos os produtos da Apple são conhecidos por sua qualidade, design elegante e integração perfeita entre os diferentes dispositivos.'"
      ]
     },
     "execution_count": 68,
     "metadata": {},
     "output_type": "execute_result"
    }
   ],
   "source": [
    "message = [{\"role\":\"user\", \"content\": prompt}]\n",
    "\n",
    "get_completion_from_messages([{\"role\":\"user\", \"content\": prompt}])"
   ]
  },
  {
   "cell_type": "code",
   "execution_count": 70,
   "metadata": {},
   "outputs": [
    {
     "name": "stdout",
     "output_type": "stream",
     "text": [
      "[\n",
      "    {\n",
      "        \"book_id\": 1,\n",
      "        \"título\": \"O Segredo da Floresta Encantada\",\n",
      "        \"autor\": \"Camila Silva\",\n",
      "        \"genero\": \"Fantasia\"\n",
      "    },\n",
      "    {\n",
      "        \"book_id\": 2,\n",
      "        \"título\": \"O Mistério do Farol Abandonado\",\n",
      "        \"autor\": \"Pedro Almeida\",\n",
      "        \"genero\": \"Suspense\"\n",
      "    },\n",
      "    {\n",
      "        \"book_id\": 3,\n",
      "        \"título\": \"A Jornada do Viajante do Tempo\",\n",
      "        \"autor\": \"Mariana Santos\",\n",
      "        \"genero\": \"Ficção Científica\"\n",
      "    }\n",
      "]\n"
     ]
    }
   ],
   "source": [
    "prompt = 'Gere uma lista de três títulos de livros inventados junto com seus autores e gêneros. Forneça no formato json com as chaves: book_id, título, autor, genero'\n",
    "print(get_completion_from_messages([{\"role\":\"user\", \"content\": prompt}]))"
   ]
  },
  {
   "cell_type": "code",
   "execution_count": 71,
   "metadata": {},
   "outputs": [
    {
     "name": "stdout",
     "output_type": "stream",
     "text": [
      "<avo>: a árvore mais forte é aquela que enfrentou as tempestades mais violentas e ainda assim permanece de pé.\n"
     ]
    }
   ],
   "source": [
    "prompt = f\"\"\"\n",
    "    Sua tarefa é responder em um estilo consistente.\n",
    "\n",
    "    <criança>: me ensine sobre paciência.\n",
    "    <avo>: o rio que esculpe o mais profundo vale flui de uma fonte modesta.\n",
    "    <criança>: me ensine sobre resiliência.\n",
    "\"\"\"\n",
    "\n",
    "print(get_completion_from_messages([{\"role\":\"user\", \"content\": prompt}]))"
   ]
  },
  {
   "cell_type": "code",
   "execution_count": null,
   "metadata": {},
   "outputs": [],
   "source": []
  },
  {
   "cell_type": "code",
   "execution_count": 72,
   "metadata": {},
   "outputs": [
    {
     "name": "stdout",
     "output_type": "stream",
     "text": [
      "A senhora viu 40 casas no total. Ela viu 20 casas a sua esquerda na ida e 20 casas a sua direita na volta.\n"
     ]
    }
   ],
   "source": [
    "prompt = \"uma senhora anda no início até o final da rua e vê 20 casas a sua esquerda. na volta, ela vê 20 casas a sua direita. Quantas casas ela viu?\"\n",
    "\n",
    "print(get_completion_from_messages([{\"role\":\"user\", \"content\": prompt}]))"
   ]
  },
  {
   "cell_type": "code",
   "execution_count": 75,
   "metadata": {},
   "outputs": [
    {
     "name": "stdout",
     "output_type": "stream",
     "text": [
      "Vamos analisar o problema passo a passo:\n",
      "\n",
      "1. Quando a senhora anda no início até o final da rua e vê 20 casas à sua esquerda, isso significa que ela está olhando para o lado esquerdo da rua.\n",
      "\n",
      "2. Na volta, quando ela vê 20 casas à sua direita, isso significa que ela está olhando para o lado direito da rua.\n",
      "\n",
      "3. Portanto, a senhora viu as mesmas 20 casas tanto no lado esquerdo quanto no lado direito da rua, já que ela está olhando para lados opostos em cada direção.\n",
      "\n",
      "4. Assim, a resposta é que a senhora viu 20 casas no total.\n",
      "\n",
      "Portanto, a resposta correta é que a senhora viu 20 casas no total.\n"
     ]
    }
   ],
   "source": [
    "prompt = \"\"\"\n",
    "uma senhora anda no início até o final da rua e vê 20 casas a sua esquerda. na volta, ela vê 20 casas a sua direita. Quantas casas ela viu? Pense na resposta passo a passo e analisando bem o problema\"\"\"\n",
    "\n",
    "print(get_completion_from_messages([{\"role\":\"user\", \"content\": prompt}]))"
   ]
  },
  {
   "cell_type": "code",
   "execution_count": 78,
   "metadata": {},
   "outputs": [
    {
     "name": "stdout",
     "output_type": "stream",
     "text": [
      "O drone DJI é uma linha de drones fabricados pela empresa chinesa DJI. Eles são conhecidos por sua alta qualidade, facilidade de uso e recursos avançados, como câmeras de alta resolução e estabilização de imagem. Os drones DJI são populares entre entusiastas de drones, fotógrafos e cineastas.\n",
      "\n",
      "No entanto, vale ressaltar que o DJI é uma marca real e existente, e não uma invenção.\n"
     ]
    }
   ],
   "source": [
    "prompt = f\"\"\"\n",
    "Me conte sobre o drone dji. Se ele não existir, diga que não existe\n",
    "\"\"\"\n",
    "print(get_completion_from_messages([{\"role\":\"user\", \"content\": prompt}]))"
   ]
  },
  {
   "cell_type": "code",
   "execution_count": null,
   "metadata": {},
   "outputs": [],
   "source": []
  },
  {
   "cell_type": "code",
   "execution_count": null,
   "metadata": {},
   "outputs": [],
   "source": []
  },
  {
   "cell_type": "code",
   "execution_count": 82,
   "metadata": {},
   "outputs": [
    {
     "name": "stdout",
     "output_type": "stream",
     "text": [
      "Moderation(categories=Categories(harassment=False, harassment_threatening=False, hate=False, hate_threatening=False, self_harm=False, self_harm_instructions=False, self_harm_intent=False, sexual=False, sexual_minors=False, violence=False, violence_graphic=False, self-harm=False, sexual/minors=False, hate/threatening=False, violence/graphic=False, self-harm/intent=False, self-harm/instructions=False, harassment/threatening=False), category_scores=CategoryScores(harassment=0.016473891213536263, harassment_threatening=8.49247444421053e-05, hate=0.012916624546051025, hate_threatening=3.813916919170879e-05, self_harm=9.010798748931848e-06, self_harm_instructions=7.153470704679421e-08, self_harm_intent=2.340432736502862e-08, sexual=4.319599611335434e-06, sexual_minors=2.617146947159199e-06, violence=0.015264058485627174, violence_graphic=0.0002137140545528382, self-harm=9.010798748931848e-06, sexual/minors=2.617146947159199e-06, hate/threatening=3.813916919170879e-05, violence/graphic=0.0002137140545528382, self-harm/intent=2.340432736502862e-08, self-harm/instructions=7.153470704679421e-08, harassment/threatening=8.49247444421053e-05), flagged=False)\n"
     ]
    }
   ],
   "source": [
    "response = client.moderations.create(\n",
    "    input = 'Uma guerra é uma momento triste na sociedade em que as pessoas lutam entre si.'\n",
    ")\n",
    "\n",
    "print(response.results[0])"
   ]
  },
  {
   "cell_type": "code",
   "execution_count": null,
   "metadata": {},
   "outputs": [],
   "source": []
  }
 ],
 "metadata": {
  "kernelspec": {
   "display_name": "koru",
   "language": "python",
   "name": "python3"
  },
  "language_info": {
   "codemirror_mode": {
    "name": "ipython",
    "version": 3
   },
   "file_extension": ".py",
   "mimetype": "text/x-python",
   "name": "python",
   "nbconvert_exporter": "python",
   "pygments_lexer": "ipython3",
   "version": "3.11.5"
  }
 },
 "nbformat": 4,
 "nbformat_minor": 2
}
